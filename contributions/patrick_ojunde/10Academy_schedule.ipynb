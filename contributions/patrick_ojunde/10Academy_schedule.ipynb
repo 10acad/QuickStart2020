{
 "cells": [
  {
   "cell_type": "markdown",
   "metadata": {},
   "source": [
    "#### 10 Academy Schedules"
   ]
  },
  {
   "cell_type": "code",
   "execution_count": 28,
   "metadata": {},
   "outputs": [],
   "source": [
    "import numpy as np\n",
    "import pandas as pd\n",
    "import os\n",
    "import csv"
   ]
  },
  {
   "cell_type": "code",
   "execution_count": 205,
   "metadata": {},
   "outputs": [],
   "source": [
    "def weekly_schedule(names, speaker_no):\n",
    "    save_here = os.getcwd()\n",
    "    schedule = {}\n",
    "    try:\n",
    "        assert speaker_no <= len(names)\n",
    "    except AssertionError:\n",
    "            print(\"No of speakers  greater than avaialable people!\")\n",
    "    if isinstance(names, list):\n",
    "        names = pd.DataFrame({'names':names})\n",
    "       # print(names)\n",
    "        # this ensures that the proportion of speakers to the number of days is evenly distributed\n",
    "        for day in range(int(len(names)/speaker_no)):\n",
    "            try:\n",
    "                today = names.sample(speaker_no)\n",
    "                names = names.drop(today.index, axis=0)\n",
    "                schedule[f'Day {day}']=today.names.values.tolist()\n",
    "                #print(schedule)\n",
    "                #print('Day {} speakers : {}'.format(day+1, today.names.values.tolist()))\n",
    "            except ValueError:\n",
    "                        print(\"No of speakers  greater than avaialable people!\")\n",
    "                        break\n",
    "    schedule= pd.DataFrame(schedule.items(), columns=['day', 'names'])\n",
    "    preetify_schedule = schedule.explode('names')\n",
    "    print(preetify_schedule)\n",
    "    download = preetify_schedule.to_csv(\"schedule.csv\", index=False)\n",
    "    return download"
   ]
  },
  {
   "cell_type": "markdown",
   "metadata": {},
   "source": [
    "> Test"
   ]
  },
  {
   "cell_type": "code",
   "execution_count": 206,
   "metadata": {},
   "outputs": [],
   "source": [
    "names = ['adakibet@gmail.com', 'gkkarobia@gmail.com', 'ogunfoworalawal@gmail.com', \n",
    " 'wamuyu.wanjohi@aiesec.net', 'okiomagerald@gmail.com', 'omadeyemo@gmail.com', 'ilekuraidowu@gmail.com', \n",
    " 'gloryodeyemi.nike@gmail.com', 'jayesegun03@gmail.com', 'amureridwan002@gmail.com']"
   ]
  },
  {
   "cell_type": "code",
   "execution_count": 207,
   "metadata": {},
   "outputs": [
    {
     "data": {
      "text/plain": [
       "10"
      ]
     },
     "execution_count": 207,
     "metadata": {},
     "output_type": "execute_result"
    }
   ],
   "source": [
    "len(names)"
   ]
  },
  {
   "cell_type": "code",
   "execution_count": 208,
   "metadata": {},
   "outputs": [
    {
     "name": "stdout",
     "output_type": "stream",
     "text": [
      "     day                        names\n",
      "0  Day 0    wamuyu.wanjohi@aiesec.net\n",
      "0  Day 0  gloryodeyemi.nike@gmail.com\n",
      "0  Day 0          omadeyemo@gmail.com\n",
      "0  Day 0        jayesegun03@gmail.com\n",
      "0  Day 0       okiomagerald@gmail.com\n",
      "1  Day 1     amureridwan002@gmail.com\n",
      "1  Day 1       ilekuraidowu@gmail.com\n",
      "1  Day 1           adakibet@gmail.com\n",
      "1  Day 1    ogunfoworalawal@gmail.com\n",
      "1  Day 1          gkkarobia@gmail.com\n"
     ]
    }
   ],
   "source": [
    "weekly_schedule(names, 5)"
   ]
  },
  {
   "cell_type": "code",
   "execution_count": null,
   "metadata": {},
   "outputs": [],
   "source": []
  },
  {
   "cell_type": "code",
   "execution_count": null,
   "metadata": {},
   "outputs": [],
   "source": []
  }
 ],
 "metadata": {
  "kernelspec": {
   "display_name": "Python 3",
   "language": "python",
   "name": "python3"
  },
  "language_info": {
   "codemirror_mode": {
    "name": "ipython",
    "version": 3
   },
   "file_extension": ".py",
   "mimetype": "text/x-python",
   "name": "python",
   "nbconvert_exporter": "python",
   "pygments_lexer": "ipython3",
   "version": "3.6.9"
  }
 },
 "nbformat": 4,
 "nbformat_minor": 4
}
