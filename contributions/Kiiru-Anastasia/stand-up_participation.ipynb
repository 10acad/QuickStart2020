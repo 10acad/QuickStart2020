{
 "cells": [
  {
   "cell_type": "markdown",
   "metadata": {},
   "source": [
    "## Randomly selecting Standup participants weekly\n",
    "A simple code to randomly generate the participants for weekly standups.\n",
    "\n",
    "In this example, we can run the code at the begining of the week, then post the randomly generated names in slack for everyone to prepare for their standup day. One limitation of the code is that it expects a list that is divisible by the sample size, which is 10 in this case; I have, therefore, added some trainees twice in the csv."
   ]
  },
  {
   "cell_type": "code",
   "execution_count": 1,
   "metadata": {},
   "outputs": [],
   "source": [
    "import random\n",
    "import pandas as pd"
   ]
  },
  {
   "cell_type": "code",
   "execution_count": 2,
   "metadata": {},
   "outputs": [
    {
     "name": "stdout",
     "output_type": "stream",
     "text": [
      "Day  1 :  ['adakibet@gmail.com', 'gkkarobia@gmail.com', 'ogunfoworalawal@gmail.com', 'wamuyu.wanjohi@aiesec.net', 'okiomagerald@gmail.com', 'omadeyemo@gmail.com', 'ilekuraidowu@gmail.com', 'gloryodeyemi.nike@gmail.com', 'jayesegun03@gmail.com', 'amureridwan002@gmail.com']\n",
      "Day  2 :  ['virgoaugustine@gmail.com', 'patrickojunde@gmail.com', 'temiladeadelakun16@gmail.com', 'olusolaogundepo@gmail.com', 'munyolec@gmail.com', 'adegboyegaajikobi@gmail.com', 'kenmbelenzi@gmail.com', 'obengboatengjohnson@gmail.com', 'tijesunimiolashore@gmail.com', 'yehualashetab@gmail.com']\n",
      "Day  3 :  ['uwizeyejeann@gmail.com', 'stacywairegi@gmail.com', 'karenwngugi12@gmail.com', 'gloryodeyemi.nike@gmail.com', 'lotomej12@gmail.com', 'enbeghan@gmail.com', 'judy.njeri.muriithi@gmail.com', 'alaroabubakarolayemi@gmail.com', 'aminubellz249@gmail.com', 'rofiahadeshina@gmail.com']\n",
      "Day  4 :  ['komboelvis08@gmail.com', 'victoria.akintomide@aiesec.net', 'oluwatobiabdulazeez@gmail.com', 'anisivick@gmail.com', 'uevelyne44@gmail.com', 'oshogbuge.patrick@gmail.com', 'dmarinere@gmail.com', 'avokaayebilla96@gmail.com', 'gideonbusayo@gmail.com', 'brianodhiambo530@gmail.com']\n",
      "Day  5 :  ['haddyadnan@gmail.com', 'wanjirustephany@gmail.com', 'oshogbuge.patrick@gmail.com', 'adakibet@gmail.com', 'sobowalemoyinoluwa@gmail.com', 'apiyoogwari18@gmail.com', 's.mwikali.muoki@gmail.com', 'kiiru.anastasia@gmail.com', 'bessymukaria@gmail.com', 'abdusalamfatai60@gmail.com']\n"
     ]
    }
   ],
   "source": [
    "def standup(names):\n",
    "    Day = 0\n",
    "    while names:\n",
    "        Today = random.sample(names,10)\n",
    "        for name in Today:\n",
    "            names.remove(name)\n",
    "        Day += 1\n",
    "        print('Day ',Day,': ',Today)\n",
    "\n",
    "#Reading from a csv file and converting a specific column to a list\n",
    "trainees = pd.read_csv('batch3.csv').emails.tolist()\n",
    "\n",
    "#calling the function and parsing the list of trainees\n",
    "standup(trainees)"
   ]
  }
 ],
 "metadata": {
  "kernelspec": {
   "display_name": "Python 3",
   "language": "python",
   "name": "python3"
  },
  "language_info": {
   "codemirror_mode": {
    "name": "ipython",
    "version": 3
   },
   "file_extension": ".py",
   "mimetype": "text/x-python",
   "name": "python",
   "nbconvert_exporter": "python",
   "pygments_lexer": "ipython3",
   "version": "3.7.6"
  }
 },
 "nbformat": 4,
 "nbformat_minor": 4
}
