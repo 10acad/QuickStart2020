{
 "cells": [
  {
   "cell_type": "markdown",
   "metadata": {},
   "source": [
    "## Randomly selecting Standup participants weekly\n",
    "A simple code to randomly generate the participants for weekly standups.\n",
    "\n",
    "In this example, we can run the code at the begining of the week, then post the randomly generated names in slack for everyone to prepare for their standup day. One limitation of the code is that it expects a list that is divisible by the sample size, which is 10 in this case; I have, therefore, added some trainees twice in the csv."
   ]
  },
  {
   "cell_type": "code",
   "execution_count": 1,
   "metadata": {},
   "outputs": [],
   "source": [
    "import random\n",
    "import pandas as pd"
   ]
  },
  {
   "cell_type": "code",
   "execution_count": 5,
   "metadata": {},
   "outputs": [
    {
     "name": "stdout",
     "output_type": "stream",
     "text": [
      "1 {1: ['ogunfoworalawal', 'dmarinere', 'kenmbelenzi', 'uwizeyejeann', 'munyolec', 'rofiahadeshina', 'omadeyemo', 'bessymukaria', 'adegboyegaajikobi', 'obengboatengjohnson']}\n",
      "2 {1: ['ogunfoworalawal', 'dmarinere', 'kenmbelenzi', 'uwizeyejeann', 'munyolec', 'rofiahadeshina', 'omadeyemo', 'bessymukaria', 'adegboyegaajikobi', 'obengboatengjohnson'], 2: ['gideonbusayo', 'adakibet', 'stacywairegi', 'aminubellz249', 'enbeghan', 'anisivick', 'oshogbuge.patrick', 'judy.njeri.muriithi', 'jayesegun03', 'adakibet']}\n",
      "3 {1: ['ogunfoworalawal', 'dmarinere', 'kenmbelenzi', 'uwizeyejeann', 'munyolec', 'rofiahadeshina', 'omadeyemo', 'bessymukaria', 'adegboyegaajikobi', 'obengboatengjohnson'], 2: ['gideonbusayo', 'adakibet', 'stacywairegi', 'aminubellz249', 'enbeghan', 'anisivick', 'oshogbuge.patrick', 'judy.njeri.muriithi', 'jayesegun03', 'adakibet'], 3: ['s.mwikali.muoki', 'komboelvis08', 'haddyadnan', 'sobowalemoyinoluwa', 'gloryodeyemi.nike', 'lotomej12', 'amureridwan002', 'gloryodeyemi.nike', 'ilekuraidowu', 'virgoaugustine']}\n",
      "4 {1: ['ogunfoworalawal', 'dmarinere', 'kenmbelenzi', 'uwizeyejeann', 'munyolec', 'rofiahadeshina', 'omadeyemo', 'bessymukaria', 'adegboyegaajikobi', 'obengboatengjohnson'], 2: ['gideonbusayo', 'adakibet', 'stacywairegi', 'aminubellz249', 'enbeghan', 'anisivick', 'oshogbuge.patrick', 'judy.njeri.muriithi', 'jayesegun03', 'adakibet'], 3: ['s.mwikali.muoki', 'komboelvis08', 'haddyadnan', 'sobowalemoyinoluwa', 'gloryodeyemi.nike', 'lotomej12', 'amureridwan002', 'gloryodeyemi.nike', 'ilekuraidowu', 'virgoaugustine'], 4: ['apiyoogwari18', 'wanjirustephany', 'wamuyu.wanjohi', 'oshogbuge.patrick', 'oluwatobiabdulazeez', 'uevelyne44', 'gkkarobia', 'olusolaogundepo', 'alaroabubakarolayemi', 'brianodhiambo530']}\n",
      "5 {1: ['ogunfoworalawal', 'dmarinere', 'kenmbelenzi', 'uwizeyejeann', 'munyolec', 'rofiahadeshina', 'omadeyemo', 'bessymukaria', 'adegboyegaajikobi', 'obengboatengjohnson'], 2: ['gideonbusayo', 'adakibet', 'stacywairegi', 'aminubellz249', 'enbeghan', 'anisivick', 'oshogbuge.patrick', 'judy.njeri.muriithi', 'jayesegun03', 'adakibet'], 3: ['s.mwikali.muoki', 'komboelvis08', 'haddyadnan', 'sobowalemoyinoluwa', 'gloryodeyemi.nike', 'lotomej12', 'amureridwan002', 'gloryodeyemi.nike', 'ilekuraidowu', 'virgoaugustine'], 4: ['apiyoogwari18', 'wanjirustephany', 'wamuyu.wanjohi', 'oshogbuge.patrick', 'oluwatobiabdulazeez', 'uevelyne44', 'gkkarobia', 'olusolaogundepo', 'alaroabubakarolayemi', 'brianodhiambo530'], 5: ['avokaayebilla96', 'kiiru.anastasia', 'patrickojunde', 'yehualashetab', 'karenwngugi12', 'tijesunimiolashore', 'temiladeadelakun16', 'victoria.akintomide', 'okiomagerald', 'abdusalamfatai60']}\n"
     ]
    }
   ],
   "source": [
    "def standup(names):\n",
    "    Day = 0\n",
    "    NameDay = {}\n",
    "    while names:\n",
    "        Today = random.sample(names,10)\n",
    "        for name in Today:\n",
    "            names.remove(name)\n",
    "        Day += 1\n",
    "        NameDay[Day] = [x.split('@')[0] for x in Today]\n",
    "        print('%s'%Day, NameDay )\n",
    "        #print('Day ',Day,': ',Today)\n",
    "\n",
    "#Reading from a csv file and converting a specific column to a list\n",
    "trainees = pd.read_csv('batch3.csv').emails.tolist()\n",
    "\n",
    "#calling the function and parsing the list of trainees\n",
    "standup(trainees)"
   ]
  },
  {
   "cell_type": "code",
   "execution_count": null,
   "metadata": {},
   "outputs": [],
   "source": []
  }
 ],
 "metadata": {
  "kernelspec": {
   "display_name": "Python [conda env:.conda-10x]",
   "language": "python",
   "name": "conda-env-.conda-10x-py"
  },
  "language_info": {
   "codemirror_mode": {
    "name": "ipython",
    "version": 3
   },
   "file_extension": ".py",
   "mimetype": "text/x-python",
   "name": "python",
   "nbconvert_exporter": "python",
   "pygments_lexer": "ipython3",
   "version": "3.7.3"
  }
 },
 "nbformat": 4,
 "nbformat_minor": 4
}
