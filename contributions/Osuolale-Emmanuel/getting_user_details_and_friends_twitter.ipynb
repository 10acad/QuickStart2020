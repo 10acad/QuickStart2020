{
  "nbformat": 4,
  "nbformat_minor": 0,
  "metadata": {
    "colab": {
      "name": "getting_user_details_and_friends_twitter.ipynb",
      "provenance": [],
      "private_outputs": true,
      "collapsed_sections": []
    },
    "kernelspec": {
      "name": "python3",
      "display_name": "Python 3"
    }
  },
  "cells": [
    {
      "cell_type": "markdown",
      "metadata": {
        "id": "_DRxXVjk7kDa",
        "colab_type": "text"
      },
      "source": [
        "\n",
        "A very easy way to get the friends, who a particular user is following on twitter and save to a csv file \n",
        "\n",
        "\n",
        "We have a list already of the usernames we want to check their followers and each of their followers would \n",
        "be saved to a new list\n",
        "\n",
        "Also how to get the full details of any users\n",
        "\n",
        "Ideas were gotting from here \n",
        "[Strumswell code link](https://github.com/strumswell/twitter-follower-graph/blob/master/get_followers_head.py)\n",
        "\n",
        "\n",
        "\n",
        "\n"
      ]
    },
    {
      "cell_type": "code",
      "metadata": {
        "id": "z96ZK1dm3VOf",
        "colab_type": "code",
        "colab": {}
      },
      "source": [
        "import csv\n",
        "!pip install bluebird\n",
        "from bluebird import BlueBird \n",
        "import tweepy\n",
        "from requests.exceptions import RequestException\n",
        "from contextlib import closing\n",
        "from bs4 import BeautifulSoup\n",
        "import pandas as pd\n",
        "import re \n",
        "import sys\n",
        "import tweepy\n",
        "from tweepy import OAuthHandler"
      ],
      "execution_count": null,
      "outputs": []
    },
    {
      "cell_type": "code",
      "metadata": {
        "id": "w3xo3-Z04D0e",
        "colab_type": "code",
        "colab": {}
      },
      "source": [
        "df = pd.read_csv(\"/content/drive/My Drive/infl_naija.csv\")"
      ],
      "execution_count": null,
      "outputs": []
    },
    {
      "cell_type": "code",
      "metadata": {
        "id": "NadnVych3bi6",
        "colab_type": "code",
        "colab": {}
      },
      "source": [
        "def get_followings(username):\n",
        "    return BlueBird().get_followings(username)    \n",
        "\n",
        "def save_result(_filename, _following):\n",
        "    with open('/content/drive/My Drive/Colab Notebooks/twitter_followers/twitter_followers'+_filename+\".csv\",'w', newline='') as file:\n",
        "        i = 1\n",
        "        for _user in _following:\n",
        "            print(str(i)+ \": \" + _user)\n",
        "            file.write(_user+\"\\n\")\n",
        "            i += 1\n",
        "for head_account in df['User_screen_name']:\n",
        "      following = get_followings(head_account)\n",
        "      print(\"Got all following of \"+head_account)\n",
        "      save_result(head_account, following)"
      ],
      "execution_count": null,
      "outputs": []
    },
    {
      "cell_type": "code",
      "metadata": {
        "id": "tZzuIA948-YW",
        "colab_type": "code",
        "colab": {}
      },
      "source": [
        ""
      ],
      "execution_count": null,
      "outputs": []
    },
    {
      "cell_type": "code",
      "metadata": {
        "id": "9W1c6CBl8-bu",
        "colab_type": "code",
        "colab": {}
      },
      "source": [
        "#"
      ],
      "execution_count": null,
      "outputs": []
    },
    {
      "cell_type": "markdown",
      "metadata": {
        "id": "RIsXHJOI9St-",
        "colab_type": "text"
      },
      "source": [
        "Here is how to get details of any users on twitter, their following, followers, verified, country etc."
      ]
    },
    {
      "cell_type": "code",
      "metadata": {
        "id": "BMxzm70R3M2P",
        "colab_type": "code",
        "colab": {}
      },
      "source": [
        "consumer_key=\"xxxxxxx\"\n",
        "consumer_secret=\"xxxxxxxx\"\n",
        "access_token=\"xxxxxxxx\"\n",
        "access_token_secret=\"xxxxxxx\""
      ],
      "execution_count": null,
      "outputs": []
    },
    {
      "cell_type": "code",
      "metadata": {
        "id": "f62Znbgpcjgt",
        "colab_type": "code",
        "colab": {}
      },
      "source": [
        "auth = OAuthHandler(consumer_key, consumer_secret)\n",
        "auth.set_access_token(access_token, access_token_secret)\n",
        "api = tweepy.API(auth, wait_on_rate_limit=True,\n",
        "          wait_on_rate_limit_notify=True)            \n",
        "            "
      ],
      "execution_count": null,
      "outputs": []
    },
    {
      "cell_type": "code",
      "metadata": {
        "id": "HNH8FE-X4i3f",
        "colab_type": "code",
        "colab": {}
      },
      "source": [
        "cols = [\"User_screen_name\", \"User_name\", \"Location\", \"Created_at\", \n",
        "                     \"Followers_count\", \"Friend_count\", \"Favourites_count\", \"Language\", \n",
        "                     \"Protected\", \"Time_zone\", \"Verified\", \"Statuses_count\", \"Url\", \n",
        "                     \"Description\"]\n",
        "\n",
        "def user_details(username, csvfile):\n",
        "  df_users = pd.DataFrame(columns=cols)\n",
        "  for user in username:\n",
        "    try:\n",
        "      obj_data = api.get_user(user)\n",
        "      new_entry =[]\n",
        "      User_screen_name = obj_data.screen_name\n",
        "      User_name = obj_data.name\n",
        "      Location = obj_data.location\n",
        "      Created_at = obj_data.created_at\n",
        "      Followers_count = obj_data.followers_count\n",
        "      Friend_count = obj_data.friends_count\n",
        "      Favourites_count = obj_data.favourites_count\n",
        "      Language = obj_data.lang\n",
        "      Protected = obj_data.protected\n",
        "      Time_zone = obj_data.time_zone\n",
        "      Verified = obj_data.verified;\n",
        "      Statuses_count = obj_data.statuses_count\n",
        "      print(user)\n",
        "      Url = obj_data.url;       \n",
        "      Description = obj_data.description\n",
        "      new_entry += [User_screen_name, User_name, Location, Created_at, \n",
        "                    Followers_count, Friend_count, Favourites_count, Language, \n",
        "                    Protected, Time_zone, Verified, Statuses_count, Url, \n",
        "                    Description]\n",
        "      single_user_df =pd.DataFrame([new_entry], columns=cols)\n",
        "      df_users = df_users.append(single_user_df, ignore_index=True)\n",
        "      df_users.to_csv(csvfile, columns=cols, index=False, encoding=\"utf-8\")\n",
        "    except Exception as e:\n",
        "      pass\n",
        "  return df_users"
      ],
      "execution_count": null,
      "outputs": []
    },
    {
      "cell_type": "code",
      "metadata": {
        "id": "abE56mIM9rjl",
        "colab_type": "code",
        "colab": {}
      },
      "source": [
        "#call function specify the csvfile \n",
        "csvfile = \"pathofcsv\"\n",
        "#the column  of the usernames\n",
        "username = df['username']\n",
        "user_details(username, csvfile)"
      ],
      "execution_count": null,
      "outputs": []
    }
  ]
}