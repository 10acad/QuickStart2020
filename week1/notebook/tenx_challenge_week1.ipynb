{
 "cells": [
  {
   "cell_type": "code",
   "execution_count": null,
   "metadata": {
    "colab": {},
    "colab_type": "code",
    "id": "zS_TY39-w9ai"
   },
   "outputs": [],
   "source": [
    "## Importing the libraries:\n",
    "import sys\n",
    "IN_COLAB = 'google.colab' in sys.modules\n",
    "\n",
    "if IN_COLAB:\n",
    "  #attach your Google drive to read write file\n",
    "  drive.mount('/content/drive')\n",
    "  rootdir = '/content/drive/My Drive/Colab Notebooks/'\n",
    "else:\n",
    "  rootdir = '../'\n",
    "  \n",
    "import matplotlib\n",
    "import matplotlib.colors as colors\n",
    "import matplotlib.pyplot as plt\n",
    "\n",
    "import pandas as pd\n",
    "import numpy as np\n",
    "\n",
    "import seaborn as sns\n",
    "sns.set()"
   ]
  },
  {
   "cell_type": "code",
   "execution_count": null,
   "metadata": {
    "colab": {},
    "colab_type": "code",
    "id": "vVybY_Xz_3KH"
   },
   "outputs": [],
   "source": [
    "rootdir = '/content/drive/My Drive/Colab Notebooks/'"
   ]
  },
  {
   "cell_type": "code",
   "execution_count": 3,
   "metadata": {
    "colab": {
     "base_uri": "https://localhost:8080/",
     "height": 34
    },
    "colab_type": "code",
    "executionInfo": {
     "elapsed": 3404,
     "status": "ok",
     "timestamp": 1590412957118,
     "user": {
      "displayName": "Yabebal Tadesse",
      "photoUrl": "",
      "userId": "06623439771884959440"
     },
     "user_tz": -120
    },
    "id": "BnW9-SpCweck",
    "outputId": "ec1a9905-51fc-42ec-afa9-73bdb84731b9"
   },
   "outputs": [
    {
     "name": "stdout",
     "output_type": "stream",
     "text": [
      "/content/drive/My Drive/Colab Notebooks/\n"
     ]
    }
   ],
   "source": [
    "%load $rootdir/"
   ]
  },
  {
   "cell_type": "markdown",
   "metadata": {
    "colab_type": "text",
    "id": "oZKC5tkH_Ea-"
   },
   "source": [
    "#Multiple choice challenges\n",
    "1. Consider a dice with a property that the probability of a face with n dots showing up is proportional to n. The probability of face showing 4 dots is? Why? \\\n",
    "a)   1/7  \\\n",
    "b)   5/42 \\\n",
    "c)   1/21 \\\n",
    "d)   4/21 \\\n",
    "\n",
    "\n",
    "2. The difference between the sample value expected and the estimates value of the parameter is called as? Could you explain the meaning of the other terminologies? \\\n",
    "a) bias \\\n",
    "b) error \\\n",
    "c) contradiction \\\n",
    "d) difference \\\n",
    "\n",
    "\n",
    "\n",
    "\n",
    "\n",
    "\n"
   ]
  },
  {
   "cell_type": "markdown",
   "metadata": {
    "colab_type": "text",
    "id": "IF3d39OEBoi5"
   },
   "source": [
    "#Code and Data analysis challenges\n",
    "\n",
    "If you have time, explore data and show your data analysis skill on top of providing answer to the two challenges posted below. "
   ]
  },
  {
   "cell_type": "code",
   "execution_count": null,
   "metadata": {
    "colab": {},
    "colab_type": "code",
    "id": "LSA251VHx_La"
   },
   "outputs": [],
   "source": [
    "def print_full(x):\n",
    "  '''\n",
    "  This is to print nicely DataFrame wide tables\n",
    "  '''\n",
    "  pd.set_option('display.max_rows', len(x))\n",
    "  pd.set_option('display.max_columns', None)\n",
    "  pd.set_option('display.width', 2000)\n",
    "  pd.set_option('display.float_format', '{:20,.2f}'.format)\n",
    "  pd.set_option('display.max_colwidth', -1)\n",
    "  print(x)\n",
    "  pd.reset_option('display.max_rows')\n",
    "  pd.reset_option('display.max_columns')\n",
    "  pd.reset_option('display.width')\n",
    "  pd.reset_option('display.float_format')\n",
    "  pd.reset_option('display.max_colwidth')\n",
    "\n",
    "def agegrp_func(x):\n",
    "  '''\n",
    "  Function to format how age group is presented\n",
    "  WHO uses AGE20-30, we want just 20-30\n",
    "  '''\n",
    "  if 'AGELT1' in x:\n",
    "    y = '0-1'\n",
    "  elif 'AGE85' in x:\n",
    "    y = '85+'\n",
    "  else:\n",
    "    y=x.replace('AGE','')\n",
    "\n",
    "  return y\n",
    "\n",
    "def agegrp_mid(x):\n",
    "  '''\n",
    "  Function to calculate the mid age of an age group\n",
    "  '''\n",
    "  if 'AGELT1' in x:\n",
    "    y = -3\n",
    "  elif 'AGE85' in x:\n",
    "    y = 87\n",
    "  else:\n",
    "    try:\n",
    "      y=int(np.mean([int(i) for i in x.replace('AGE','').split('-')]))\n",
    "    except:\n",
    "      y = int(x.replace('AGE','').split('-')[0])\n",
    "  return y  \n",
    "\n",
    "class whoapi():\n",
    "  '''\n",
    "  This class defines methods to get data from World Health Organisation (WHO) API\n",
    "  The different WHO health and related data is structured by country and indicator id (ids) \n",
    "  For example \n",
    "    Country = ETH\n",
    "    indicatorid='LIFE_0000000029' \n",
    "  describes the probability of dying in age groups for Ethiopia\n",
    "  Reference: for more information about available WHO data, refer\n",
    "  https://www.who.int/data/gho  \n",
    "  '''\n",
    "  def __init__(self, dim='GHO',**kwargs):\n",
    "    #\n",
    "    self.url = f\"http://apps.who.int/gho/athena/api/{dim}\"\n",
    "    self.verbose = kwargs.get('verbose',0)\n",
    "\n",
    "  @staticmethod\n",
    "  def age_sex_stem(df):    \n",
    "    '''\n",
    "    To nicely format AGE and SEX columns\n",
    "    '''\n",
    "    if 'AGEGROUP' in df.columns:\n",
    "      df['MidAge'] = df['AGEGROUP'].map(agegrp_mid)\n",
    "      df['AGEGROUP'] = df['AGEGROUP'].map(agegrp_func)       \n",
    "      df = df.sort_values('MidAge').reset_index().drop(columns=['index'])\n",
    "      \n",
    "    if 'SEX' in df.columns:\n",
    "      df['SEX'] = df['SEX'].map(lambda x:{'MLE':'Male',\n",
    "                                              'FMLE':'Female',\n",
    "                                              'BTSX':'Both'}.get(x,x))\n",
    "    return df    \n",
    "\n",
    "  def get_ids(self,s):\n",
    "    df = self.dfid\n",
    "\n",
    "    name = s\n",
    "    if isinstance(s,str):\n",
    "      name = [s]    \n",
    "\n",
    "    dflist = [] \n",
    "    for d in name:\n",
    "      dflist.append(df[df['id'].map(lambda x : d in x)])\n",
    "\n",
    "    #try:\n",
    "    df = pd.concat(dflist)\n",
    "    #except:\n",
    "    #  df = pd.DataFrame()\n",
    "\n",
    "    return df\n",
    "\n",
    "  def get_gho_data(self, id, fdict=None, \n",
    "                   url=None,verbose=None):\n",
    "    '''\n",
    "    given \n",
    "      id: indicator id, \n",
    "      fdict: dictionary of filters e.g {'COUNTRY':ETH,'YEAR':2016} ethiopian data from 2016\n",
    "      url (optional)\n",
    "      verbose: feedback level (0 -  less info to print; >=2 debug mode)\n",
    "    get data from WHO server and return it as pandas DataFrame \n",
    "    '''\n",
    "    #\n",
    "    verbose = self.verbose if verbose is None else verbose\n",
    "    #\n",
    "    ids = id\n",
    "    if isinstance(id,list):\n",
    "      ids = ','.join(id)\n",
    "\n",
    "    if url is None:\n",
    "      url = f\"{self.url}/{ids}.csv\"\n",
    "\n",
    "    if verbose>1:\n",
    "      print('API url:',url)\n",
    "\n",
    "    if not fdict is None:\n",
    "      url += '?filter=' + \";\".join([f\"{k}:{v}\" for k, v in fdict.items()])\n",
    "    \n",
    "    df = pd.read_csv(url)\n",
    "    df = df.dropna(axis=1, how='all')\n",
    "    try:\n",
    "      df = df.drop(columns=['Comments'])\n",
    "      df = df.drop(columns=['Comments'])\n",
    "    except:\n",
    "      #print('not dropping Comments')\n",
    "      pass\n",
    "\n",
    "    return df\n",
    "\n",
    "  def country_data(self,ids,countries=['ETH'],year=2016):    \n",
    "    '''\n",
    "    This is a wrapper to \n",
    "      method: get_gho_data \n",
    "    This method allows one easily to pass multiple countries in a list\n",
    "    '''\n",
    "    if isinstance(countries,str):\n",
    "      countries = [countries]\n",
    "\n",
    "    dflist = []\n",
    "    verbose=self.verbose\n",
    "    for c in countries:\n",
    "      print(f'processing country={c}')\n",
    "      df = self.get_gho_data(ids,fdict={'COUNTRY':c,'YEAR':year},verbose=verbose)\n",
    "      print(df.shape)\n",
    "      verbose += 2\n",
    "      dflist.append(df)\n",
    "\n",
    "    df = pd.concat(dflist)\n",
    "    print('all_df.shape',df.shape)\n",
    "    return df\n",
    "\n",
    "  def death_rates(self,**kwargs):\n",
    "    '''\n",
    "    This method fetchs data for the death rate from WHO server. \n",
    "    if a list of countries in their iso-3 code (e.g ITH, ETH, USA..) passed\n",
    "    using keyword \n",
    "      countries=[ITH, ETH, USA], \n",
    "    The data will be returned only to these countries\n",
    "    '''\n",
    "    name = 'LIFE_0000000029'\n",
    "    try:\n",
    "      return self.age_sex_stem(self.country_data(name,**kwargs))\n",
    "    except:\n",
    "      return self.country_data(name,**kwargs)\n",
    "\n",
    "  def dying_prob(self,**kwargs):\n",
    "    '''\n",
    "    This method fetchs the probability of dying data at a given age from WHO serer  \n",
    "    if a list of countries in their iso-3 code (e.g ITH, ETH, USA..) passed\n",
    "    using keyword \n",
    "      countries=[ITH, ETH, USA], \n",
    "    The data will be returned only to these countries\n",
    "    '''\n",
    "\n",
    "    name = 'LIFE_0000000030'\n",
    "    df = self.country_data(name,**kwargs)\n",
    "    try:\n",
    "      return self.age_sex_stem(df)\n",
    "    except:\n",
    "      raise\n",
    "      return df                "
   ]
  },
  {
   "cell_type": "markdown",
   "metadata": {
    "colab_type": "text",
    "id": "s_Dgyace63OV"
   },
   "source": [
    "##Challenge 1\n",
    "Below we use the `whoapi` class defined above to fetch data as pandas dataframe. The following plot is produced using the data stored in `df_pd` variable defined in the next cell. \n",
    "\n",
    "![image.png](data:image/png;base64,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)\n",
    "\n",
    "\n",
    "#### **Your task is to make a plot similar to this plot. You may use different colors, but the x axis labels should be rotated to make it look nice and readable. The over all quality of the plot should be as good or better than this plot. We used something like the following to the above plot**\n",
    "```python\n",
    "sns.set_style(\"ticks\", {\"xtick.major\": len(xticks)})\n",
    "with sns.axes_style(\"whitegrid\"):\n",
    "  chart = sns.relplot()\n",
    "```\n",
    " \n",
    "You can change the countries if you like e.g. compare your country with other contries."
   ]
  },
  {
   "cell_type": "code",
   "execution_count": null,
   "metadata": {
    "colab": {
     "base_uri": "https://localhost:8080/",
     "height": 134
    },
    "colab_type": "code",
    "executionInfo": {
     "elapsed": 860,
     "status": "ok",
     "timestamp": 1587627084189,
     "user": {
      "displayName": "Yabebal Tadesse",
      "photoUrl": "",
      "userId": "06623439771884959440"
     },
     "user_tz": -120
    },
    "id": "in2zrzDI27dY",
    "outputId": "f83738fc-c950-4294-9190-c854b9863e76"
   },
   "outputs": [
    {
     "name": "stdout",
     "output_type": "stream",
     "text": [
      "processing country=ETH\n",
      "(38, 9)\n",
      "processing country=ITA\n",
      "API url: http://apps.who.int/gho/athena/api/GHO/LIFE_0000000030.csv\n",
      "(38, 9)\n",
      "all_df.shape (76, 9)\n",
      "dying prob df.shape (76, 10)\n"
     ]
    }
   ],
   "source": [
    "#initiate the whoapi class\n",
    "hapi = whoapi()\n",
    "\n",
    "#get data for dying probabilty of countries\n",
    "df_pd = hapi.dying_prob(countries=[\"ETH\",\"ITA\"])\n",
    "\n",
    "#plot data\n",
    "print('dying prob df.shape',df_pd.shape)\n",
    "xtickslabel = df_pd['AGEGROUP'].unique()\n",
    "xticks = df_pd['MidAge'].unique()"
   ]
  },
  {
   "cell_type": "markdown",
   "metadata": {
    "colab_type": "text",
    "id": "C__Ad1PW3WHY"
   },
   "source": [
    "##Challenge 2\n",
    "\n",
    "Plot death rates as a function of age by calling the `death_rate` method. You can either use your choice of countries or use `countries=['ETH','ITA']`."
   ]
  },
  {
   "cell_type": "code",
   "execution_count": null,
   "metadata": {
    "colab": {},
    "colab_type": "code",
    "id": "OdeXmt469bHs"
   },
   "outputs": [],
   "source": []
  }
 ],
 "metadata": {
  "colab": {
   "authorship_tag": "ABX9TyMnObva4cU72WiqRKb3NhOe",
   "name": "tenx_challenge_week1.ipynb",
   "provenance": [],
   "toc_visible": true
  },
  "kernelspec": {
   "display_name": "Python 3",
   "language": "python",
   "name": "python3"
  },
  "language_info": {
   "codemirror_mode": {
    "name": "ipython",
    "version": 3
   },
   "file_extension": ".py",
   "mimetype": "text/x-python",
   "name": "python",
   "nbconvert_exporter": "python",
   "pygments_lexer": "ipython3",
   "version": "3.7.6"
  }
 },
 "nbformat": 4,
 "nbformat_minor": 4
}
