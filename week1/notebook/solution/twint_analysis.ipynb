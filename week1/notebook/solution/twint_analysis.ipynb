{
 "cells": [
  {
   "cell_type": "code",
   "execution_count": 1,
   "metadata": {},
   "outputs": [],
   "source": [
    "import sqlite3\n",
    "import sys\n",
    "import time\n",
    "import hashlib\n",
    "\n",
    "from datetime import datetime"
   ]
  },
  {
   "cell_type": "code",
   "execution_count": 2,
   "metadata": {},
   "outputs": [],
   "source": [
    "import twint\n",
    "from twint.storage import db"
   ]
  },
  {
   "cell_type": "code",
   "execution_count": 5,
   "metadata": {},
   "outputs": [],
   "source": [
    "def create_connection(db_file):\n",
    "    \"\"\" create a database connection to the SQLite database\n",
    "        specified by the db_file\n",
    "    :param db_file: database file\n",
    "    :return: Connection object or None\n",
    "    \"\"\"\n",
    "    conn = None\n",
    "    try:\n",
    "        conn = sqlite3.connect(db_file)\n",
    "    except Error as e:\n",
    "        print(e)\n",
    "\n",
    "    return conn\n",
    "\n",
    "def select_all_tasks(conn,table):\n",
    "    \"\"\"\n",
    "    Query all rows in the tasks table\n",
    "    :param conn: the Connection object\n",
    "    :return:\n",
    "    \"\"\"\n",
    "    cur = conn.cursor()\n",
    "    cur.execute(\"SELECT * FROM %s\"%table)\n",
    "\n",
    "    rows = cur.fetchall()\n",
    "\n",
    "    print('Number of Rows: ',len(rows))    \n",
    "    #for row in rows:\n",
    "    #    print(row)\n",
    "    return rows\n",
    "        \n",
    "def select_task_by_priority(conn, priority):\n",
    "    \"\"\"\n",
    "    Query tasks by priority\n",
    "    :param conn: the Connection object\n",
    "    :param priority:\n",
    "    :return:\n",
    "    \"\"\"\n",
    "    cur = conn.cursor()\n",
    "    cur.execute(\"SELECT * FROM tasks WHERE priority=?\", (priority,))\n",
    "\n",
    "    rows = cur.fetchall()\n",
    "\n",
    "    for row in rows:\n",
    "        print(row)\n",
    "        "
   ]
  },
  {
   "cell_type": "code",
   "execution_count": 3,
   "metadata": {},
   "outputs": [],
   "source": [
    "database = '/Users/yabebal/Gdrive_10_Academy/Courses/twitter_analysis/twint/db/lia_tadesse_users.db'\n",
    "conn = create_connection(database)"
   ]
  },
  {
   "cell_type": "code",
   "execution_count": 7,
   "metadata": {},
   "outputs": [
    {
     "name": "stdout",
     "output_type": "stream",
     "text": [
      "Number of Rows:  598\n"
     ]
    }
   ],
   "source": [
    "rows = select_all_tasks(conn,'users')"
   ]
  },
  {
   "cell_type": "code",
   "execution_count": 8,
   "metadata": {},
   "outputs": [
    {
     "data": {
      "text/plain": [
       "(984540045997731840,\n",
       " '984540045997731840',\n",
       " 'Samira Asma',\n",
       " 'DrSamira_Asma',\n",
       " 'Assistant Director General @WHO for Data, Analytics and Delivery for Impact. Ensuring global health data is credible and has an impact.',\n",
       " 'Geneva, Switzerland',\n",
       " 'http://who.int',\n",
       " '12 Apr 2018',\n",
       " '2:13 PM',\n",
       " 449,\n",
       " 273,\n",
       " 1538,\n",
       " 3627,\n",
       " 76,\n",
       " 0,\n",
       " 1,\n",
       " 'https://pbs.twimg.com/profile_images/1237788015847706628/qkvMuFtH_400x400.jpg',\n",
       " 'https://pbs.twimg.com/profile_banners/984540045997731840/1583946635/1500x500',\n",
       " 'd685b5cfab1bcb2ffa86edc4706bb043923b05bc66e7c2fcfa40f7f691776267',\n",
       " 1595775713339)"
      ]
     },
     "execution_count": 8,
     "metadata": {},
     "output_type": "execute_result"
    }
   ],
   "source": [
    "rows[0]"
   ]
  },
  {
   "cell_type": "code",
   "execution_count": null,
   "metadata": {},
   "outputs": [],
   "source": []
  }
 ],
 "metadata": {
  "kernelspec": {
   "display_name": "twitter",
   "language": "python",
   "name": "twitter"
  },
  "language_info": {
   "codemirror_mode": {
    "name": "ipython",
    "version": 3
   },
   "file_extension": ".py",
   "mimetype": "text/x-python",
   "name": "python",
   "nbconvert_exporter": "python",
   "pygments_lexer": "ipython3",
   "version": "3.7.6"
  }
 },
 "nbformat": 4,
 "nbformat_minor": 4
}
